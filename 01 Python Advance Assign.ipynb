{
 "cells": [
  {
   "cell_type": "markdown",
   "id": "c060977d",
   "metadata": {},
   "source": [
    "# Q1. What is the purpose of Python's OOP?"
   ]
  },
  {
   "cell_type": "markdown",
   "id": "8e00dc42",
   "metadata": {},
   "source": [
    "Object Oriented Programming reduces the task of writting the programmes again and again by creating a collection of different programes as mudules under a class which can be used whereever they are required."
   ]
  },
  {
   "cell_type": "markdown",
   "id": "042cb0b9",
   "metadata": {},
   "source": [
    "# Q2. Where does an inheritance search look for an attribute?"
   ]
  },
  {
   "cell_type": "markdown",
   "id": "e02918ec",
   "metadata": {},
   "source": [
    "First of all it searches into the modules or the instances we can say (from 1st to last) then in the class it is created. It keeps on searching until it finds the first instance."
   ]
  },
  {
   "cell_type": "markdown",
   "id": "f0e665fc",
   "metadata": {},
   "source": [
    "# Q3. How do you distinguish between a class object and an instance object?"
   ]
  },
  {
   "cell_type": "markdown",
   "id": "b5f0eee3",
   "metadata": {},
   "source": [
    "Classes consists of many instances, Instance objects contains differernt differernt programmes which could be iterated as per requirement on calling the class while class objects are the collectionss of instances itself once class is called all of its instances are accessible"
   ]
  },
  {
   "cell_type": "markdown",
   "id": "a7282fa2",
   "metadata": {},
   "source": [
    "# Q4. Why is the first argument in a class’s method function special?"
   ]
  },
  {
   "cell_type": "markdown",
   "id": "79b392c3",
   "metadata": {},
   "source": [
    "Because it is the pointer commonly named as 'self' which receives the method call for the instance function, without this it is not possible to call the method function."
   ]
  },
  {
   "cell_type": "markdown",
   "id": "a5f7ec0f",
   "metadata": {},
   "source": [
    "Q5. What is the purpose of the __init__ method?"
   ]
  },
  {
   "cell_type": "markdown",
   "id": "04ce5901",
   "metadata": {},
   "source": [
    "__init__ method is used as constructor to store the indication or the addresses of the differernt multiple instances. We may define which instances we are gonna dedicate/use"
   ]
  },
  {
   "cell_type": "markdown",
   "id": "e79191fd",
   "metadata": {},
   "source": [
    "# Q6. What is the process for creating a class instance?"
   ]
  },
  {
   "cell_type": "markdown",
   "id": "7b358a6d",
   "metadata": {},
   "source": [
    "Class instance is created by the name 'class' to store the other instances, arguments passed into it are shown as instances."
   ]
  },
  {
   "cell_type": "markdown",
   "id": "e71110d0",
   "metadata": {},
   "source": [
    "# Q7. What is the process for creating a class?"
   ]
  },
  {
   "cell_type": "markdown",
   "id": "aceb78f4",
   "metadata": {},
   "source": [
    "Just write the name of class against the argument class. for example\n",
    "\n",
    "class fsds"
   ]
  },
  {
   "cell_type": "markdown",
   "id": "1ecada6b",
   "metadata": {},
   "source": [
    "# Q8. How would you define the superclasses of a class?"
   ]
  },
  {
   "cell_type": "markdown",
   "id": "fd8a61a7",
   "metadata": {},
   "source": [
    "Superclasses are basically the classes from where classes are inherited. such as son class is inheriited from father supercass and mother superclass\n",
    "for example\n",
    "\n",
    "class son(father,mother)"
   ]
  },
  {
   "cell_type": "code",
   "execution_count": null,
   "id": "e73874ea",
   "metadata": {},
   "outputs": [],
   "source": []
  }
 ],
 "metadata": {
  "kernelspec": {
   "display_name": "Python 3 (ipykernel)",
   "language": "python",
   "name": "python3"
  },
  "language_info": {
   "codemirror_mode": {
    "name": "ipython",
    "version": 3
   },
   "file_extension": ".py",
   "mimetype": "text/x-python",
   "name": "python",
   "nbconvert_exporter": "python",
   "pygments_lexer": "ipython3",
   "version": "3.9.12"
  }
 },
 "nbformat": 4,
 "nbformat_minor": 5
}
